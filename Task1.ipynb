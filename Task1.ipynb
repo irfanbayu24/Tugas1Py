{
 "cells": [
  {
   "cell_type": "code",
   "execution_count": 1,
   "metadata": {},
   "outputs": [
    {
     "name": "stdout",
     "output_type": "stream",
     "text": [
      "Collecting ipywidgets\n",
      "  Using cached ipywidgets-8.1.2-py3-none-any.whl.metadata (2.4 kB)\n",
      "Requirement already satisfied: comm>=0.1.3 in c:\\users\\hp\\appdata\\roaming\\python\\python310\\site-packages (from ipywidgets) (0.2.2)\n",
      "Requirement already satisfied: ipython>=6.1.0 in c:\\users\\hp\\appdata\\roaming\\python\\python310\\site-packages (from ipywidgets) (8.22.2)\n",
      "Requirement already satisfied: traitlets>=4.3.1 in c:\\users\\hp\\appdata\\local\\programs\\python\\python310\\lib\\site-packages (from ipywidgets) (5.14.1)\n",
      "Collecting widgetsnbextension~=4.0.10 (from ipywidgets)\n",
      "  Using cached widgetsnbextension-4.0.10-py3-none-any.whl.metadata (1.6 kB)\n",
      "Collecting jupyterlab-widgets~=3.0.10 (from ipywidgets)\n",
      "  Using cached jupyterlab_widgets-3.0.10-py3-none-any.whl.metadata (4.1 kB)\n",
      "Requirement already satisfied: decorator in c:\\users\\hp\\appdata\\roaming\\python\\python310\\site-packages (from ipython>=6.1.0->ipywidgets) (5.1.1)\n",
      "Requirement already satisfied: jedi>=0.16 in c:\\users\\hp\\appdata\\roaming\\python\\python310\\site-packages (from ipython>=6.1.0->ipywidgets) (0.19.1)\n",
      "Requirement already satisfied: matplotlib-inline in c:\\users\\hp\\appdata\\roaming\\python\\python310\\site-packages (from ipython>=6.1.0->ipywidgets) (0.1.6)\n",
      "Requirement already satisfied: prompt-toolkit<3.1.0,>=3.0.41 in c:\\users\\hp\\appdata\\local\\programs\\python\\python310\\lib\\site-packages (from ipython>=6.1.0->ipywidgets) (3.0.43)\n",
      "Requirement already satisfied: pygments>=2.4.0 in c:\\users\\hp\\appdata\\local\\programs\\python\\python310\\lib\\site-packages (from ipython>=6.1.0->ipywidgets) (2.17.2)\n",
      "Requirement already satisfied: stack-data in c:\\users\\hp\\appdata\\roaming\\python\\python310\\site-packages (from ipython>=6.1.0->ipywidgets) (0.6.3)\n",
      "Requirement already satisfied: exceptiongroup in c:\\users\\hp\\appdata\\roaming\\python\\python310\\site-packages (from ipython>=6.1.0->ipywidgets) (1.2.0)\n",
      "Requirement already satisfied: colorama in c:\\users\\hp\\appdata\\local\\programs\\python\\python310\\lib\\site-packages (from ipython>=6.1.0->ipywidgets) (0.4.6)\n",
      "Requirement already satisfied: parso<0.9.0,>=0.8.3 in c:\\users\\hp\\appdata\\local\\programs\\python\\python310\\lib\\site-packages (from jedi>=0.16->ipython>=6.1.0->ipywidgets) (0.8.3)\n",
      "Requirement already satisfied: wcwidth in c:\\users\\hp\\appdata\\local\\programs\\python\\python310\\lib\\site-packages (from prompt-toolkit<3.1.0,>=3.0.41->ipython>=6.1.0->ipywidgets) (0.2.12)\n",
      "Requirement already satisfied: executing>=1.2.0 in c:\\users\\hp\\appdata\\roaming\\python\\python310\\site-packages (from stack-data->ipython>=6.1.0->ipywidgets) (2.0.1)\n",
      "Requirement already satisfied: asttokens>=2.1.0 in c:\\users\\hp\\appdata\\roaming\\python\\python310\\site-packages (from stack-data->ipython>=6.1.0->ipywidgets) (2.4.1)\n",
      "Requirement already satisfied: pure-eval in c:\\users\\hp\\appdata\\local\\programs\\python\\python310\\lib\\site-packages (from stack-data->ipython>=6.1.0->ipywidgets) (0.2.2)\n",
      "Requirement already satisfied: six>=1.12.0 in c:\\users\\hp\\appdata\\local\\programs\\python\\python310\\lib\\site-packages (from asttokens>=2.1.0->stack-data->ipython>=6.1.0->ipywidgets) (1.16.0)\n",
      "Using cached ipywidgets-8.1.2-py3-none-any.whl (139 kB)\n",
      "Using cached jupyterlab_widgets-3.0.10-py3-none-any.whl (215 kB)\n",
      "Using cached widgetsnbextension-4.0.10-py3-none-any.whl (2.3 MB)\n",
      "Installing collected packages: widgetsnbextension, jupyterlab-widgets, ipywidgets\n",
      "Successfully installed ipywidgets-8.1.2 jupyterlab-widgets-3.0.10 widgetsnbextension-4.0.10\n",
      "Note: you may need to restart the kernel to use updated packages.\n"
     ]
    }
   ],
   "source": [
    "%pip install ipywidgets"
   ]
  },
  {
   "cell_type": "code",
   "execution_count": 2,
   "metadata": {},
   "outputs": [
    {
     "data": {
      "application/vnd.jupyter.widget-view+json": {
       "model_id": "7e35831818f3442c883e3485f8575845",
       "version_major": 2,
       "version_minor": 0
      },
      "text/plain": [
       "IntSlider(value=3000000, description='Number of Interactions:', max=5000000, min=1000, step=1000)"
      ]
     },
     "metadata": {},
     "output_type": "display_data"
    },
    {
     "data": {
      "application/vnd.jupyter.widget-view+json": {
       "model_id": "ab124a260cc54e8db645fc0f69ecc437",
       "version_major": 2,
       "version_minor": 0
      },
      "text/plain": [
       "IntSlider(value=3000000, description='Number of Purchase History:', max=5000000, min=1000, step=1000)"
      ]
     },
     "metadata": {},
     "output_type": "display_data"
    },
    {
     "data": {
      "application/vnd.jupyter.widget-view+json": {
       "model_id": "b62359c762da4a889ccb0a8bef27e4d6",
       "version_major": 2,
       "version_minor": 0
      },
      "text/plain": [
       "IntSlider(value=1043, description='Number of Products:', max=2000, min=10, step=10)"
      ]
     },
     "metadata": {},
     "output_type": "display_data"
    },
    {
     "data": {
      "application/vnd.jupyter.widget-view+json": {
       "model_id": "4ad333c0bacc4090b843a6ed68e6a27c",
       "version_major": 2,
       "version_minor": 0
      },
      "text/plain": [
       "IntSlider(value=5000000, description='Total Customers:', max=10000000, min=1000, step=1000)"
      ]
     },
     "metadata": {},
     "output_type": "display_data"
    },
    {
     "data": {
      "application/vnd.jupyter.widget-view+json": {
       "model_id": "31715ff174cf41079feeb602fd5cd044",
       "version_major": 2,
       "version_minor": 0
      },
      "text/plain": [
       "Button(description='Start Simulation', style=ButtonStyle())"
      ]
     },
     "metadata": {},
     "output_type": "display_data"
    },
    {
     "ename": "ValueError",
     "evalue": "Number of interactions cannot exceed total customers.",
     "output_type": "error",
     "traceback": [
      "\u001b[1;31m---------------------------------------------------------------------------\u001b[0m",
      "\u001b[1;31mValueError\u001b[0m                                Traceback (most recent call last)",
      "Cell \u001b[1;32mIn[2], line 93\u001b[0m, in \u001b[0;36mstart_simulation\u001b[1;34m(b)\u001b[0m\n\u001b[0;32m     89\u001b[0m total_customers \u001b[39m=\u001b[39m total_customers_slider\u001b[39m.\u001b[39mvalue\n\u001b[0;32m     91\u001b[0m start_time \u001b[39m=\u001b[39m time\u001b[39m.\u001b[39mtime()\n\u001b[1;32m---> 93\u001b[0m customer_ids \u001b[39m=\u001b[39m generate_random_customer_ids(num_interactions, total_customers)\n\u001b[0;32m     95\u001b[0m product_details_df \u001b[39m=\u001b[39m generate_product_details(num_products)\n\u001b[0;32m     96\u001b[0m purchase_history_df \u001b[39m=\u001b[39m generate_purchase_history(customer_ids, num_purchase_history, product_details_df)\n",
      "Cell \u001b[1;32mIn[2], line 24\u001b[0m, in \u001b[0;36mgenerate_random_customer_ids\u001b[1;34m(num_interactions, total_customers)\u001b[0m\n\u001b[0;32m     22\u001b[0m \u001b[39m\u001b[39m\u001b[39m\"\"\"Generate random unique customer IDs for interactions.\"\"\"\u001b[39;00m\n\u001b[0;32m     23\u001b[0m \u001b[39mif\u001b[39;00m num_interactions \u001b[39m>\u001b[39m total_customers:\n\u001b[1;32m---> 24\u001b[0m     \u001b[39mraise\u001b[39;00m \u001b[39mValueError\u001b[39;00m(\u001b[39m\"\u001b[39m\u001b[39mNumber of interactions cannot exceed total customers.\u001b[39m\u001b[39m\"\u001b[39m)\n\u001b[0;32m     26\u001b[0m \u001b[39mreturn\u001b[39;00m np\u001b[39m.\u001b[39mrandom\u001b[39m.\u001b[39mchoice(np\u001b[39m.\u001b[39marange(\u001b[39m1\u001b[39m, total_customers \u001b[39m+\u001b[39m \u001b[39m1\u001b[39m), num_interactions, replace\u001b[39m=\u001b[39m\u001b[39mFalse\u001b[39;00m)\n",
      "\u001b[1;31mValueError\u001b[0m: Number of interactions cannot exceed total customers."
     ]
    }
   ],
   "source": [
    "import numpy as np\n",
    "import pandas as pd\n",
    "from datetime import datetime, timedelta\n",
    "import time\n",
    "import matplotlib.pyplot as plt\n",
    "from ipywidgets import interact, IntSlider, Button, Output\n",
    "\n",
    "PRICE_RANGES = {\n",
    "    \"Apparel and Fashion Accessories\": (10, 500),\n",
    "    \"Electronics\": (20, 5000),\n",
    "    \"Beauty and Personal Care Products\": (5, 200),\n",
    "    \"Home and Kitchen Appliances\": (20, 2000),\n",
    "    \"Books and Media\": (5, 100),\n",
    "    \"Consumer Electronics Accessories\": (5, 200),\n",
    "    \"Health and Wellness Products\": (5, 500),\n",
    "    \"Toys and Games\": (5, 300),\n",
    "    \"Pet Supplies\": (5, 300),\n",
    "    \"Sporting Goods and Fitness Equipment\": (10, 2000)\n",
    "}\n",
    "\n",
    "def generate_random_customer_ids(num_interactions, total_customers):\n",
    "    \"\"\"Generate random unique customer IDs for interactions.\"\"\"\n",
    "    if num_interactions > total_customers:\n",
    "        raise ValueError(\"Number of interactions cannot exceed total customers.\")\n",
    "\n",
    "    return np.random.choice(np.arange(1, total_customers + 1), num_interactions, replace=False)\n",
    "\n",
    "\n",
    "def generate_customer_interactions(num_interactions, customer_ids, purchase_history_df):\n",
    "    \"\"\"Generate customer interactions data.\"\"\"\n",
    "    max_page_views = purchase_history_df.groupby('Customer ID')['Page Views'].sum()\n",
    "    max_page_views = max_page_views.reindex(customer_ids, fill_value=1)\n",
    "    num_page_views = np.random.randint(max_page_views, max_page_views + 100, size=num_interactions)\n",
    "\n",
    "    time_spent = np.random.uniform(1, 5, size=num_interactions)\n",
    "    while np.any(time_spent / num_page_views <= 0.733):\n",
    "        mask = time_spent / num_page_views <= 0.733\n",
    "        time_spent[mask] += np.random.uniform(5, 20, size=mask.sum())\n",
    "\n",
    "    return pd.DataFrame({\n",
    "        'Customer ID': customer_ids,\n",
    "        'Page Views': num_page_views,\n",
    "        'Time Spent (minutes)': np.round(time_spent)\n",
    "    })\n",
    "\n",
    "def generate_product_details(num_products):\n",
    "    \"\"\"Generate product details.\"\"\"\n",
    "    categories = np.random.choice(list(PRICE_RANGES.keys()), num_products)\n",
    "    prices = [np.random.uniform(*PRICE_RANGES[cat]) for cat in categories]\n",
    "    return pd.DataFrame({\n",
    "        'Product ID': range(1, num_products + 1),\n",
    "        'Category': categories,\n",
    "        'Price': prices,\n",
    "        'Ratings': np.round(np.random.uniform(1, 5, num_products), 1)\n",
    "    })\n",
    "\n",
    "def generate_purchase_history(customer_ids, num_purchase_history, product_details_df):\n",
    "    \"\"\"Generate purchase history.\"\"\"\n",
    "    product_ids = np.random.choice(product_details_df['Product ID'], num_purchase_history)\n",
    "    categories = product_details_df.set_index('Product ID').loc[product_ids, 'Category'].values\n",
    "    prices = product_details_df.set_index('Product ID').loc[product_ids, 'Price'].values\n",
    "    purchase_dates = np.array([datetime.now() - timedelta(\n",
    "        days=np.random.randint(1, 365),\n",
    "        hours=np.random.randint(0, 24),\n",
    "        minutes=np.random.randint(0, 60),\n",
    "        seconds=np.random.randint(0, 60)\n",
    "    ) for _ in range(num_purchase_history)])\n",
    "    page_views = np.random.randint(1, 5, num_purchase_history)\n",
    "\n",
    "    return pd.DataFrame({\n",
    "        'Customer ID': np.random.choice(customer_ids, num_purchase_history),\n",
    "        'Product ID': product_ids,\n",
    "        'Purchase Date': purchase_dates,\n",
    "        'Category': categories,\n",
    "        'Price': prices,\n",
    "        'Page Views': page_views\n",
    "    })\n",
    "\n",
    "def save_to_csv(customer_interactions_df, purchase_history_df, product_details_df):\n",
    "    \"\"\"Save dataframes to CSV files.\"\"\"\n",
    "    customer_interactions_df.to_csv('customer_interactions_synthetic.csv', index=False)\n",
    "    purchase_history_df.to_csv('purchase_history_synthetic.csv', index=False)\n",
    "    product_details_df.to_csv('product_details_synthetic.csv', index=False)\n",
    "\n",
    "def start_simulation(b):\n",
    "    num_interactions = num_interactions_slider.value\n",
    "    num_purchase_history = num_purchase_history_slider.value\n",
    "    num_products = num_products_slider.value\n",
    "    total_customers = total_customers_slider.value\n",
    "\n",
    "    start_time = time.time()\n",
    "\n",
    "    customer_ids = generate_random_customer_ids(num_interactions, total_customers)\n",
    "\n",
    "    product_details_df = generate_product_details(num_products)\n",
    "    purchase_history_df = generate_purchase_history(customer_ids, num_purchase_history, product_details_df)\n",
    "    customer_interactions_df = generate_customer_interactions(num_interactions, customer_ids, purchase_history_df)\n",
    "\n",
    "    save_to_csv(customer_interactions_df, purchase_history_df, product_details_df)\n",
    "\n",
    "    print(\" \")\n",
    "    print(\"/* output */\")\n",
    "\n",
    "    # Check for Customer IDs in purchase_history_df but not in customer_interactions_df\n",
    "    missing_customer_ids = set(purchase_history_df['Customer ID']) - set(customer_interactions_df['Customer ID'])\n",
    "\n",
    "    if missing_customer_ids:\n",
    "        print(\"Customer IDs present in purchase_history_df but not in customer_interactions_df:\")\n",
    "        print(missing_customer_ids)\n",
    "    else:\n",
    "        print(\"All Customer IDs in purchase_history_df are also present in customer_interactions_df.\")\n",
    "\n",
    "    # Count the number of unique IDs in 'Customer ID' column of 'purchase_history_df'\n",
    "    unique_ids_count = purchase_history_df['Customer ID'].nunique()\n",
    "\n",
    "    # Print the count of unique IDs\n",
    "    print(\"Number of unique IDs in purchase_history_df:\", unique_ids_count)\n",
    "\n",
    "    # Plotting\n",
    "    # Count the frequency of each ID\n",
    "    id_frequency = purchase_history_df['Customer ID'].value_counts()\n",
    "\n",
    "    # Count the frequency of the frequencies of IDs\n",
    "    id_frequency_frequency = id_frequency.value_counts()\n",
    "\n",
    "    # Plot frequency distribution of frequency of the ID vs. frequency of the frequency of the ID\n",
    "    plt.figure(figsize=(10, 6))\n",
    "    plt.scatter(id_frequency_frequency.index, id_frequency_frequency.values, color='red', marker='x')\n",
    "    plt.title('Frequency Total Purchases vs. Total Purchases')\n",
    "    plt.xlabel('Total Purchases')\n",
    "    plt.ylabel('Frequency Total Purchases')\n",
    "    plt.grid(True)\n",
    "    plt.show()\n",
    "\n",
    "    end_time = time.time()\n",
    "    execution_time = end_time - start_time\n",
    "    print(f\"Execution time: {execution_time} seconds\")\n",
    "\n",
    "# Interactive sliders\n",
    "num_interactions_slider = IntSlider(min=1000, max=5000000, step=1000, value=3000000, description='Number of Interactions:')\n",
    "num_purchase_history_slider = IntSlider(min=1000, max=5000000, step=1000, value=3000000, description='Number of Purchase History:')\n",
    "num_products_slider = IntSlider(min=10, max=2000, step=10, value=1043, description='Number of Products:')\n",
    "total_customers_slider = IntSlider(min=1000, max=10000000, step=1000, value=5000000, description='Total Customers:')\n",
    "\n",
    "# Button for starting the simulation\n",
    "start_button = Button(description='Start Simulation')\n",
    "start_button.on_click(start_simulation)\n",
    "\n",
    "# Display the widgets\n",
    "display(num_interactions_slider, num_purchase_history_slider, num_products_slider, total_customers_slider, start_button)\n"
   ]
  }
 ],
 "metadata": {
  "kernelspec": {
   "display_name": "Python 3.10.2 64-bit",
   "language": "python",
   "name": "python3"
  },
  "language_info": {
   "codemirror_mode": {
    "name": "ipython",
    "version": 3
   },
   "file_extension": ".py",
   "mimetype": "text/x-python",
   "name": "python",
   "nbconvert_exporter": "python",
   "pygments_lexer": "ipython3",
   "version": "3.10.2"
  },
  "orig_nbformat": 4,
  "vscode": {
   "interpreter": {
    "hash": "027efd7095115064582efab50921964d678032cf36f1ec215c675cf4ffc5e6b9"
   }
  }
 },
 "nbformat": 4,
 "nbformat_minor": 2
}
